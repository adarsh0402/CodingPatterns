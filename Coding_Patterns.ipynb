{
  "nbformat": 4,
  "nbformat_minor": 0,
  "metadata": {
    "colab": {
      "provenance": [],
      "authorship_tag": "ABX9TyOT/WwSh/mkAckdX34+Nz6E",
      "include_colab_link": true
    },
    "kernelspec": {
      "name": "python3",
      "display_name": "Python 3"
    },
    "language_info": {
      "name": "python"
    }
  },
  "cells": [
    {
      "cell_type": "markdown",
      "metadata": {
        "id": "view-in-github",
        "colab_type": "text"
      },
      "source": [
        "<a href=\"https://colab.research.google.com/github/adarsh0402/CodingPatterns/blob/main/Coding_Patterns.ipynb\" target=\"_parent\"><img src=\"https://colab.research.google.com/assets/colab-badge.svg\" alt=\"Open In Colab\"/></a>"
      ]
    },
    {
      "cell_type": "code",
      "execution_count": 2,
      "metadata": {
        "colab": {
          "base_uri": "https://localhost:8080/"
        },
        "id": "cW95APPV8YqG",
        "outputId": "2c6b4a9a-f500-4d9c-9d47-21d34f931145"
      },
      "outputs": [
        {
          "output_type": "stream",
          "name": "stdout",
          "text": [
            "15\n"
          ]
        }
      ],
      "source": [
        "# 1. Sliding Window (find max sum in window k consecutive)\n",
        "\n",
        "# Expalnation:\n",
        "\n",
        "# nums=[-1,2,3,3,4,5,-1]\n",
        "# Select the first k elements and find sum eg : [-1,2,3,3] = 7 because k = 4\n",
        "# Initialise 0th elemnt as left and (k-1)th element as right pointer\n",
        "# now until right pointer crosses last element run Loop\n",
        "# from the sum found in 1st step substract left pointer value and add right pointer value\n",
        "# eg : from sum -1 is substracted and 4 is added (7-(-1)+4)=12\n",
        "\n",
        "# Link : https://www.youtube.com/watch?v=9kdHxplyl5I\n",
        "\n",
        "nums=[-1,2,3,3,4,5,-1]\n",
        "k=4\n",
        "arrSum=0\n",
        "for i in range(k):\n",
        "    arrSum=arrSum+nums[i]\n",
        "maxSum=arrSum\n",
        "l=0\n",
        "r=k-1\n",
        "while(r<len(nums)-1):\n",
        "  r=r+1\n",
        "  arrSum=arrSum-nums[l]\n",
        "  arrSum=arrSum+nums[r]\n",
        "  l=l+1\n",
        "  if(arrSum>maxSum):\n",
        "    maxSum=arrSum\n",
        "print(maxSum)"
      ]
    },
    {
      "cell_type": "code",
      "source": [],
      "metadata": {
        "id": "VPn55Sd_8cwG"
      },
      "execution_count": null,
      "outputs": []
    }
  ]
}